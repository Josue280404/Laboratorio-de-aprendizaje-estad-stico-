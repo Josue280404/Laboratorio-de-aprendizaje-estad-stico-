{
 "cells": [
  {
   "cell_type": "markdown",
   "id": "de16ac05-1760-49ad-b40c-327a96a8e846",
   "metadata": {},
   "source": [
    "# Laboratorio de regresión - 3"
   ]
  },
  {
   "cell_type": "markdown",
   "id": "1db0fb70-ca43-47f7-bbfd-fd06ca0e25f2",
   "metadata": {},
   "source": [
    "## Significancia de factores"
   ]
  },
  {
   "cell_type": "markdown",
   "id": "6043c593-39d1-405c-b92e-487314170cf6",
   "metadata": {},
   "source": [
    "|                |   |\n",
    ":----------------|---|\n",
    "| Francisco Josué Ramírez Avila      |   |\n",
    "| 25/08/2025     |   |\n",
    "| 747819 |   |"
   ]
  },
  {
   "cell_type": "markdown",
   "id": "2cfabde4-866e-4f00-8a37-9d57f2bebbb6",
   "metadata": {},
   "source": [
    "Descarga el archivo de publicidad y carga los datos (Advertising.csv)."
   ]
  },
  {
   "cell_type": "code",
   "execution_count": 1,
   "id": "07527ab6-7c18-48b5-9779-d5e6e5da289b",
   "metadata": {
    "scrolled": true
   },
   "outputs": [
    {
     "data": {
      "text/html": [
       "<div>\n",
       "<style scoped>\n",
       "    .dataframe tbody tr th:only-of-type {\n",
       "        vertical-align: middle;\n",
       "    }\n",
       "\n",
       "    .dataframe tbody tr th {\n",
       "        vertical-align: top;\n",
       "    }\n",
       "\n",
       "    .dataframe thead th {\n",
       "        text-align: right;\n",
       "    }\n",
       "</style>\n",
       "<table border=\"1\" class=\"dataframe\">\n",
       "  <thead>\n",
       "    <tr style=\"text-align: right;\">\n",
       "      <th></th>\n",
       "      <th>Unnamed: 0</th>\n",
       "      <th>TV</th>\n",
       "      <th>radio</th>\n",
       "      <th>newspaper</th>\n",
       "      <th>sales</th>\n",
       "    </tr>\n",
       "  </thead>\n",
       "  <tbody>\n",
       "    <tr>\n",
       "      <th>0</th>\n",
       "      <td>1</td>\n",
       "      <td>230.1</td>\n",
       "      <td>37.8</td>\n",
       "      <td>69.2</td>\n",
       "      <td>22.1</td>\n",
       "    </tr>\n",
       "    <tr>\n",
       "      <th>1</th>\n",
       "      <td>2</td>\n",
       "      <td>44.5</td>\n",
       "      <td>39.3</td>\n",
       "      <td>45.1</td>\n",
       "      <td>10.4</td>\n",
       "    </tr>\n",
       "    <tr>\n",
       "      <th>2</th>\n",
       "      <td>3</td>\n",
       "      <td>17.2</td>\n",
       "      <td>45.9</td>\n",
       "      <td>69.3</td>\n",
       "      <td>9.3</td>\n",
       "    </tr>\n",
       "    <tr>\n",
       "      <th>3</th>\n",
       "      <td>4</td>\n",
       "      <td>151.5</td>\n",
       "      <td>41.3</td>\n",
       "      <td>58.5</td>\n",
       "      <td>18.5</td>\n",
       "    </tr>\n",
       "    <tr>\n",
       "      <th>4</th>\n",
       "      <td>5</td>\n",
       "      <td>180.8</td>\n",
       "      <td>10.8</td>\n",
       "      <td>58.4</td>\n",
       "      <td>12.9</td>\n",
       "    </tr>\n",
       "    <tr>\n",
       "      <th>...</th>\n",
       "      <td>...</td>\n",
       "      <td>...</td>\n",
       "      <td>...</td>\n",
       "      <td>...</td>\n",
       "      <td>...</td>\n",
       "    </tr>\n",
       "    <tr>\n",
       "      <th>195</th>\n",
       "      <td>196</td>\n",
       "      <td>38.2</td>\n",
       "      <td>3.7</td>\n",
       "      <td>13.8</td>\n",
       "      <td>7.6</td>\n",
       "    </tr>\n",
       "    <tr>\n",
       "      <th>196</th>\n",
       "      <td>197</td>\n",
       "      <td>94.2</td>\n",
       "      <td>4.9</td>\n",
       "      <td>8.1</td>\n",
       "      <td>9.7</td>\n",
       "    </tr>\n",
       "    <tr>\n",
       "      <th>197</th>\n",
       "      <td>198</td>\n",
       "      <td>177.0</td>\n",
       "      <td>9.3</td>\n",
       "      <td>6.4</td>\n",
       "      <td>12.8</td>\n",
       "    </tr>\n",
       "    <tr>\n",
       "      <th>198</th>\n",
       "      <td>199</td>\n",
       "      <td>283.6</td>\n",
       "      <td>42.0</td>\n",
       "      <td>66.2</td>\n",
       "      <td>25.5</td>\n",
       "    </tr>\n",
       "    <tr>\n",
       "      <th>199</th>\n",
       "      <td>200</td>\n",
       "      <td>232.1</td>\n",
       "      <td>8.6</td>\n",
       "      <td>8.7</td>\n",
       "      <td>13.4</td>\n",
       "    </tr>\n",
       "  </tbody>\n",
       "</table>\n",
       "<p>200 rows × 5 columns</p>\n",
       "</div>"
      ],
      "text/plain": [
       "     Unnamed: 0     TV  radio  newspaper  sales\n",
       "0             1  230.1   37.8       69.2   22.1\n",
       "1             2   44.5   39.3       45.1   10.4\n",
       "2             3   17.2   45.9       69.3    9.3\n",
       "3             4  151.5   41.3       58.5   18.5\n",
       "4             5  180.8   10.8       58.4   12.9\n",
       "..          ...    ...    ...        ...    ...\n",
       "195         196   38.2    3.7       13.8    7.6\n",
       "196         197   94.2    4.9        8.1    9.7\n",
       "197         198  177.0    9.3        6.4   12.8\n",
       "198         199  283.6   42.0       66.2   25.5\n",
       "199         200  232.1    8.6        8.7   13.4\n",
       "\n",
       "[200 rows x 5 columns]"
      ]
     },
     "execution_count": 1,
     "metadata": {},
     "output_type": "execute_result"
    }
   ],
   "source": [
    "import pandas as pd\n",
    "data = pd.read_csv(\"Advertising.csv\")\n",
    "data"
   ]
  },
  {
   "cell_type": "code",
   "execution_count": null,
   "id": "f76bcb16-5b02-42aa-846f-fb890b34af26",
   "metadata": {},
   "outputs": [],
   "source": []
  },
  {
   "cell_type": "code",
   "execution_count": null,
   "id": "0769d0e1-47cc-4ccc-9066-3f3a06dbe283",
   "metadata": {},
   "outputs": [],
   "source": []
  },
  {
   "cell_type": "markdown",
   "id": "f81535ac-87ca-490e-89e7-0564c31f73f0",
   "metadata": {},
   "source": [
    "**¿Hay alguna relación entre el presupuesto para publicidad y las ventas?**\n",
    "\n",
    "Nuestra primera meta debe ser determinar si hay evidencia en los datos de que haya una asociación entre estas variables.\n",
    "\n",
    "- ¿Por qué? ¿Qué resultaría si nos diéramos cuenta de la falta de relación entre el presupuesto de publicidad y las ventas?"
   ]
  },
  {
   "cell_type": "markdown",
   "id": "e5ed6dff-daa6-4680-ae46-1892fbe61743",
   "metadata": {},
   "source": []
  },
  {
   "cell_type": "markdown",
   "id": "9bc7813f-d560-4e8a-bf91-3523bf0c01b6",
   "metadata": {},
   "source": []
  },
  {
   "cell_type": "markdown",
   "id": "68d193c6-bf5b-4dd9-bcab-f2aafa9c9b2b",
   "metadata": {},
   "source": []
  },
  {
   "cell_type": "markdown",
   "id": "3ff47351-fa8b-4c19-93ce-d68dce869913",
   "metadata": {},
   "source": [
    "**¿Qué tan fuerte es esta relación?**\n",
    "Asumiendo que existe esta relación, ¿nos sirve conocer el impacto que tiene invertir en publicidad en las ventas?"
   ]
  },
  {
   "cell_type": "markdown",
   "id": "f4f729ab-b3c5-45f2-be4d-679b009f3d98",
   "metadata": {},
   "source": []
  },
  {
   "cell_type": "markdown",
   "id": "9c044753-6f17-4dbe-8fed-97e1eff2bbcd",
   "metadata": {},
   "source": []
  },
  {
   "cell_type": "markdown",
   "id": "d875c4b8-6203-4e12-947a-0a99f9832b2c",
   "metadata": {},
   "source": []
  },
  {
   "cell_type": "markdown",
   "id": "4cd03e68-778f-49cc-9161-a2fff241af56",
   "metadata": {},
   "source": [
    "**¿Cuáles medios están asociados con las ventas? ¿Qué tan grande es la asociación entre un medio específico y las ventas?**\n",
    "\n",
    "Hay 3 medios distintos en los datos. ¿Sirve invertir en los 3? ¿Conviene más invertir sólo en uno?\n",
    "\n",
    "**¿Qué tan seguros estamos de que podríamos predecir ventas futuras?**\n",
    "\n",
    "**¿La relación es lineal?**\n",
    "\n",
    "**¿Hay sinergia entre estos medios?**\n",
    "\n",
    "Puede ser que gastar \\\\$50,000 en publicidad y otros \\\\$50,000 en radio es mejor opción que gastar \\\\$100,000 en televisión. A esto le llamamos efecto de interacción.\n",
    "\n",
    "Podemos usar regresión lineal para responder todas estas preguntas."
   ]
  },
  {
   "cell_type": "markdown",
   "id": "cb3f1c79-027e-4af9-b61b-82e4a45df0bb",
   "metadata": {},
   "source": [
    "Realiza una regresión lineal:\n",
    "\n",
    "$$ \\text{ventas} \\approx \\beta_0 + (\\beta_1)(\\text{TV})$$"
   ]
  },
  {
   "cell_type": "code",
   "execution_count": 2,
   "id": "82dd5260-ff12-4261-b325-40f70c7e3783",
   "metadata": {},
   "outputs": [
    {
     "data": {
      "text/html": [
       "<style>#sk-container-id-1 {color: black;}#sk-container-id-1 pre{padding: 0;}#sk-container-id-1 div.sk-toggleable {background-color: white;}#sk-container-id-1 label.sk-toggleable__label {cursor: pointer;display: block;width: 100%;margin-bottom: 0;padding: 0.3em;box-sizing: border-box;text-align: center;}#sk-container-id-1 label.sk-toggleable__label-arrow:before {content: \"▸\";float: left;margin-right: 0.25em;color: #696969;}#sk-container-id-1 label.sk-toggleable__label-arrow:hover:before {color: black;}#sk-container-id-1 div.sk-estimator:hover label.sk-toggleable__label-arrow:before {color: black;}#sk-container-id-1 div.sk-toggleable__content {max-height: 0;max-width: 0;overflow: hidden;text-align: left;background-color: #f0f8ff;}#sk-container-id-1 div.sk-toggleable__content pre {margin: 0.2em;color: black;border-radius: 0.25em;background-color: #f0f8ff;}#sk-container-id-1 input.sk-toggleable__control:checked~div.sk-toggleable__content {max-height: 200px;max-width: 100%;overflow: auto;}#sk-container-id-1 input.sk-toggleable__control:checked~label.sk-toggleable__label-arrow:before {content: \"▾\";}#sk-container-id-1 div.sk-estimator input.sk-toggleable__control:checked~label.sk-toggleable__label {background-color: #d4ebff;}#sk-container-id-1 div.sk-label input.sk-toggleable__control:checked~label.sk-toggleable__label {background-color: #d4ebff;}#sk-container-id-1 input.sk-hidden--visually {border: 0;clip: rect(1px 1px 1px 1px);clip: rect(1px, 1px, 1px, 1px);height: 1px;margin: -1px;overflow: hidden;padding: 0;position: absolute;width: 1px;}#sk-container-id-1 div.sk-estimator {font-family: monospace;background-color: #f0f8ff;border: 1px dotted black;border-radius: 0.25em;box-sizing: border-box;margin-bottom: 0.5em;}#sk-container-id-1 div.sk-estimator:hover {background-color: #d4ebff;}#sk-container-id-1 div.sk-parallel-item::after {content: \"\";width: 100%;border-bottom: 1px solid gray;flex-grow: 1;}#sk-container-id-1 div.sk-label:hover label.sk-toggleable__label {background-color: #d4ebff;}#sk-container-id-1 div.sk-serial::before {content: \"\";position: absolute;border-left: 1px solid gray;box-sizing: border-box;top: 0;bottom: 0;left: 50%;z-index: 0;}#sk-container-id-1 div.sk-serial {display: flex;flex-direction: column;align-items: center;background-color: white;padding-right: 0.2em;padding-left: 0.2em;position: relative;}#sk-container-id-1 div.sk-item {position: relative;z-index: 1;}#sk-container-id-1 div.sk-parallel {display: flex;align-items: stretch;justify-content: center;background-color: white;position: relative;}#sk-container-id-1 div.sk-item::before, #sk-container-id-1 div.sk-parallel-item::before {content: \"\";position: absolute;border-left: 1px solid gray;box-sizing: border-box;top: 0;bottom: 0;left: 50%;z-index: -1;}#sk-container-id-1 div.sk-parallel-item {display: flex;flex-direction: column;z-index: 1;position: relative;background-color: white;}#sk-container-id-1 div.sk-parallel-item:first-child::after {align-self: flex-end;width: 50%;}#sk-container-id-1 div.sk-parallel-item:last-child::after {align-self: flex-start;width: 50%;}#sk-container-id-1 div.sk-parallel-item:only-child::after {width: 0;}#sk-container-id-1 div.sk-dashed-wrapped {border: 1px dashed gray;margin: 0 0.4em 0.5em 0.4em;box-sizing: border-box;padding-bottom: 0.4em;background-color: white;}#sk-container-id-1 div.sk-label label {font-family: monospace;font-weight: bold;display: inline-block;line-height: 1.2em;}#sk-container-id-1 div.sk-label-container {text-align: center;}#sk-container-id-1 div.sk-container {/* jupyter's `normalize.less` sets `[hidden] { display: none; }` but bootstrap.min.css set `[hidden] { display: none !important; }` so we also need the `!important` here to be able to override the default hidden behavior on the sphinx rendered scikit-learn.org. See: https://github.com/scikit-learn/scikit-learn/issues/21755 */display: inline-block !important;position: relative;}#sk-container-id-1 div.sk-text-repr-fallback {display: none;}</style><div id=\"sk-container-id-1\" class=\"sk-top-container\"><div class=\"sk-text-repr-fallback\"><pre>LinearRegression()</pre><b>In a Jupyter environment, please rerun this cell to show the HTML representation or trust the notebook. <br />On GitHub, the HTML representation is unable to render, please try loading this page with nbviewer.org.</b></div><div class=\"sk-container\" hidden><div class=\"sk-item\"><div class=\"sk-estimator sk-toggleable\"><input class=\"sk-toggleable__control sk-hidden--visually\" id=\"sk-estimator-id-1\" type=\"checkbox\" checked><label for=\"sk-estimator-id-1\" class=\"sk-toggleable__label sk-toggleable__label-arrow\">LinearRegression</label><div class=\"sk-toggleable__content\"><pre>LinearRegression()</pre></div></div></div></div></div>"
      ],
      "text/plain": [
       "LinearRegression()"
      ]
     },
     "execution_count": 2,
     "metadata": {},
     "output_type": "execute_result"
    }
   ],
   "source": [
    "from sklearn.linear_model import LinearRegression\n",
    "import numpy as np\n",
    "X = data['TV'].values.reshape([-1, 1])\n",
    "y = data['sales'].values.reshape([-1, 1])\n",
    "lr = LinearRegression()\n",
    "lr.fit(X,y)"
   ]
  },
  {
   "cell_type": "code",
   "execution_count": 3,
   "id": "5c5d518d-a3da-4b63-acd9-0481b231408d",
   "metadata": {},
   "outputs": [
    {
     "data": {
      "text/plain": [
       "array([7.03259355])"
      ]
     },
     "execution_count": 3,
     "metadata": {},
     "output_type": "execute_result"
    }
   ],
   "source": [
    "lr.intercept_"
   ]
  },
  {
   "cell_type": "code",
   "execution_count": 4,
   "id": "b7f11512-1a7e-4cda-869d-c6eb6847564c",
   "metadata": {},
   "outputs": [
    {
     "data": {
      "text/plain": [
       "array([[0.04753664]])"
      ]
     },
     "execution_count": 4,
     "metadata": {},
     "output_type": "execute_result"
    }
   ],
   "source": [
    "lr.coef_"
   ]
  },
  {
   "cell_type": "code",
   "execution_count": 5,
   "id": "8ff6dd2f",
   "metadata": {},
   "outputs": [
    {
     "data": {
      "text/plain": [
       "0.611875050850071"
      ]
     },
     "execution_count": 5,
     "metadata": {},
     "output_type": "execute_result"
    }
   ],
   "source": [
    "from sklearn.metrics import r2_score\n",
    "\n",
    "Y_ = lr.predict(X)\n",
    "r2_score (y,Y_)"
   ]
  },
  {
   "cell_type": "code",
   "execution_count": null,
   "id": "c2136300",
   "metadata": {},
   "outputs": [],
   "source": []
  },
  {
   "cell_type": "markdown",
   "id": "a84ba655-7b09-482a-992f-02380dd54209",
   "metadata": {},
   "source": [
    "### Verificando la precisión de nuestros coeficientes estimados"
   ]
  },
  {
   "cell_type": "markdown",
   "id": "30733e87-7be2-477f-84c2-d430ad1a2a5d",
   "metadata": {},
   "source": [
    "Recuerda que en el mundo real hay ruidos y errores de medición. Siempre se asume que la verdadera relación entre $X$ y $Y$ es $$Y = \\beta_0 + \\beta_1 X + \\epsilon$$"
   ]
  },
  {
   "cell_type": "markdown",
   "id": "af33c415-790e-4e28-bcd5-8f94ac545822",
   "metadata": {},
   "source": [
    "Se asume que el término de error es independiente de $X$ (el error siempre es el mismo sin importar el valor de $X$). Este modelo describe a la *línea de regresión de la población*, que es la mejor aproximación de la verdadera relación entre $X$ y $Y$. Cuando usamos mínimos cuadrados encontramos la *línea de mínimos cuadrados*."
   ]
  },
  {
   "cell_type": "markdown",
   "id": "86d80b2d-2c96-4fa7-8348-29e8215e4e2e",
   "metadata": {},
   "source": [
    "¿Cuál es la diferencia entre población y muestra?"
   ]
  },
  {
   "cell_type": "markdown",
   "id": "ec345b97-255d-45a2-95ea-487212a02644",
   "metadata": {},
   "source": []
  },
  {
   "cell_type": "markdown",
   "id": "51486e54-82e7-4794-bbde-b6f6ea10691c",
   "metadata": {},
   "source": []
  },
  {
   "cell_type": "markdown",
   "id": "ae665943-51b4-45e3-b83a-93d8915a1dcc",
   "metadata": {},
   "source": []
  },
  {
   "cell_type": "markdown",
   "id": "ea74ba36-845f-44fe-89e4-442b66f44d9d",
   "metadata": {},
   "source": [
    "¿Cuál crees que sea la diferencia entre hacer una regresión con todos los datos de la población y una muestra de ella?"
   ]
  },
  {
   "cell_type": "markdown",
   "id": "1563051a-01a3-4a4e-bff2-f12c7d113b15",
   "metadata": {},
   "source": []
  },
  {
   "cell_type": "markdown",
   "id": "cfea860e-24bb-4e94-b93a-a86c8c1dca8a",
   "metadata": {},
   "source": []
  },
  {
   "cell_type": "markdown",
   "id": "e7e23b6a-3287-47f6-952c-472c6c712d91",
   "metadata": {},
   "source": []
  },
  {
   "cell_type": "markdown",
   "id": "c123335b-5299-4f2e-ac8e-4b1e40754221",
   "metadata": {},
   "source": [
    "La línea de regresión de la población no se puede observar. El concepto de comparar estas líneas es una extensión natural del acercamiento estadístico estándar de usar información de una muestra para estimar características de una población grande."
   ]
  },
  {
   "cell_type": "markdown",
   "id": "5b0d26b9-18de-4467-a836-3f75b228a363",
   "metadata": {},
   "source": [
    "Imagina que quieres encontrar la altura promedio de un mexicano $\\mu$. Medir a todos y cada uno de los mexicanos en situaciones similares, con la misma regla, mismo operador, y otras incontables formas de minimizar la variación de la medida es una tarea imposible. Lo que podemos asumir es que $\\hat{\\mu} = \\bar{y}$. La media poblacional y la media muestral son diferentes, pero la media muestral es usualmente un buen estimado.\n",
    "\n",
    "De la misma manera, como no contamos con el 100% de la información para hacer una regresión, los coeficientes $\\beta_0$ y $\\beta_1$ son desconocidos. Podemos estimarlos usando mínimos cuadrados, encontrando $\\hat{\\beta_0}$ y $\\hat{\\beta_1}$. Puede que las muestras que tengamos en ese momento estén un poco por encima de la media, pero otras muestras en otro momento puede que estén debajo de la media. En general, esperamos que el promedio de las aproximaciones $\\hat{\\mu}$ aproxime a $\\mu$."
   ]
  },
  {
   "cell_type": "markdown",
   "id": "7fff6312-57a0-4c9f-aaa9-f22f6294c71c",
   "metadata": {},
   "source": [
    "Esto lleva a la pregunta: ¿qué tan cercanos son nuestros coeficientes estimados a los verdaderos coeficientes? Utilizamos el concepto de error estándar para evaluar esto.\n",
    "\n",
    "$$ \\text{Var}(\\hat{\\mu})=\\text{SE}(\\hat{\\mu})^2 = \\frac{\\sigma^2}{n} $$\n",
    "\n",
    "Donde $\\sigma$ es la desviación estándar de cada una de las observaciones $y_i$ de $Y$. El error estándar nos dice la cantidad promedio que el estimado difiere del valor verdadero. Podemos ver en la fórmula que entre más observaciones tengamos el error se hace más pequeño. Las fórmulas para errores estándar de $\\hat{\\beta_0}$ y $\\hat{\\beta_1}$ son:\n",
    "\n",
    "$$ \\text{SE}(\\hat{\\beta_0})^2 = \\sigma^2 [\\frac{1}{n} + \\frac{\\bar{x}^2}{\\sum_{i=1}^n (x_i - \\bar{x})^2}]$$\n",
    "\n",
    "$$ \\text{SE}(\\hat{\\beta_1})^2 = \\frac{\\sigma^2}{\\sum_{i=1}^n (x_i - \\bar{x})^2}$$\n",
    "\n",
    "$$ \\sigma^2 = \\text{Var}(\\epsilon) = \\text{RSE}^2 = \\frac{\\text{RSS}}{n-p}$$"
   ]
  },
  {
   "cell_type": "markdown",
   "id": "661b6d7c-2274-462f-92ff-0e7be8ca742d",
   "metadata": {},
   "source": [
    "Para que estas fórmulas sean validas asumimos que los errores $\\epsilon_i$ tienen varianza común $\\sigma^2$ y que no están correlacionados.\n",
    "\n",
    "Calcula los errores estándar de los coeficientes"
   ]
  },
  {
   "cell_type": "code",
   "execution_count": 6,
   "id": "07843e5d-fa42-4266-9dda-7701a5700f07",
   "metadata": {},
   "outputs": [
    {
     "data": {
      "text/plain": [
       "0.4578429402734785"
      ]
     },
     "execution_count": 6,
     "metadata": {},
     "output_type": "execute_result"
    }
   ],
   "source": [
    "n = len(X)\n",
    "x_mean = np.mean(X)\n",
    "y_pred = lr.predict(X)\n",
    "residuals = y - y_pred\n",
    "sigma2 = np.sum(residuals**2) / (n - 2) \n",
    "Sxx = np.sum((X - x_mean)**2)\n",
    "SE0 =  sigma2 * (1/n + (x_mean**2) / Sxx)\n",
    "SE_b0 = np.sqrt(SE0)\n",
    "SE_b0"
   ]
  },
  {
   "cell_type": "code",
   "execution_count": 7,
   "id": "c0f7beeb-3e18-419f-b0f1-29b47569ca11",
   "metadata": {
    "scrolled": true
   },
   "outputs": [
    {
     "data": {
      "text/plain": [
       "0.0026906071877968707"
      ]
     },
     "execution_count": 7,
     "metadata": {},
     "output_type": "execute_result"
    }
   ],
   "source": [
    "n = len(X)\n",
    "x_mean = np.mean(X)\n",
    "y_pred = lr.predict(X)\n",
    "residuals = y - y_pred\n",
    "sigma2 = np.sum(residuals**2) / (n - 2) \n",
    "Sxx = np.sum((X - x_mean)**2)\n",
    "SE0 =  sigma2 * (1/n + (x_mean**2) / Sxx)\n",
    "SE_b0 = np.sqrt(SE0)\n",
    "b1 = (sigma2/ Sxx)\n",
    "a = np.sqrt(b1)\n",
    "a"
   ]
  },
  {
   "cell_type": "markdown",
   "id": "9c2711ec-2380-4bce-ac68-007378e7b76c",
   "metadata": {},
   "source": [
    "Estos errores se pueden usar para calcular intervalos de confianza. Un intervalo de confianza del $95\\%$ se define como un rango de valores en el cuál se encuentra el desconocido valor verdadero con un $95\\%$ de probabilidad.\n",
    "\n",
    "Otra forma de verlo es que si tomamos muestras repetidas y construimos un intervalo de confianza para cada una, el $95\\%$ de los intervalos creados van a contener el valor verdadero. Para la regresión el intervalo de confianza del $95\\%$ toma la forma:\n",
    "\n",
    "$$ \\hat{\\beta_j} \\pm 2\\text{SE}(\\hat{\\beta_j})$$"
   ]
  },
  {
   "cell_type": "markdown",
   "id": "a71aed31-b058-4217-8d45-9686b9611511",
   "metadata": {},
   "source": [
    "Calcula los intervalos de confianza para los coeficientes estimados:"
   ]
  },
  {
   "cell_type": "code",
   "execution_count": 8,
   "id": "8b725487-4e48-471d-9c5a-547e7e176334",
   "metadata": {},
   "outputs": [
    {
     "name": "stdout",
     "output_type": "stream",
     "text": [
      "6.116907669453043 7.948279430546957\n"
     ]
    }
   ],
   "source": [
    "za = 7.03259355 - 2*SE_b0\n",
    "ze = 7.03259355 + 2*SE_b0\n",
    "print ( za, ze)"
   ]
  },
  {
   "cell_type": "code",
   "execution_count": 9,
   "id": "b8173bfb-0766-4888-8c4b-2367cafde0c9",
   "metadata": {},
   "outputs": [
    {
     "name": "stdout",
     "output_type": "stream",
     "text": [
      "0.04215542562440626 0.05291785437559374\n"
     ]
    }
   ],
   "source": [
    "za = 0.04753664 - 2*a\n",
    "ze = 0.04753664 + 2*a\n",
    "print ( za, ze)\n",
    "\n"
   ]
  },
  {
   "cell_type": "code",
   "execution_count": null,
   "id": "e2681447-fa5c-4057-90c2-a32faa1d7277",
   "metadata": {},
   "outputs": [],
   "source": []
  },
  {
   "cell_type": "markdown",
   "id": "da3b3100-fb87-42de-9e74-75c72464bb7b",
   "metadata": {},
   "source": [
    "Los errores estándar también se usan para realizar pruebas de hipótesis. La prueba de hipótesis más común es probar la hipótesis nula de:\n",
    "\n",
    "$$ H_0: \\text{No hay relación entre } X \\text{ y } Y \\ \\ \\ \\ (\\beta_1=0)$$"
   ]
  },
  {
   "cell_type": "markdown",
   "id": "a1ef288e-55fe-45fb-bb86-4bef282b5947",
   "metadata": {},
   "source": [
    "contra la hipótesis alternativa:\n",
    "$$ H_0: \\text{Hay alguna relación entre } X \\text{ y } Y \\ \\ \\ (\\beta_1 \\neq 0)$$"
   ]
  },
  {
   "cell_type": "markdown",
   "id": "eaf0c27a-4a67-450c-b2ce-a65958938c25",
   "metadata": {},
   "source": [
    "Explica con tus palabras el significado de la hipótesis nula y la hipótesis alternativa."
   ]
  },
  {
   "cell_type": "markdown",
   "id": "41f7cb88-88a5-462f-84ec-6019911ebb64",
   "metadata": {},
   "source": []
  },
  {
   "cell_type": "markdown",
   "id": "a2e36b97-9347-4b49-a7f2-e02448dfe25d",
   "metadata": {},
   "source": []
  },
  {
   "cell_type": "markdown",
   "id": "5d602628-5c24-4898-a743-d84fb854474d",
   "metadata": {},
   "source": []
  },
  {
   "cell_type": "markdown",
   "id": "cc6404ea-89ae-45f0-9935-67dbd53b78c6",
   "metadata": {},
   "source": [
    "Para probal la hipótesis nula debemos determinar si nuestro estimado $\\hat{\\beta_1}$ de $\\beta_1$ está lo suficientemente alejado de cero para que podamos decir con confianza que este valor no es cero. \n",
    "\n",
    "¿Qué tan lejos? Depende de qué tanta confianza tengamos en el estimado encontrado. Si nuestro error estándar es pequeño y nuestro estimado está alejado de cero podríamos decir que hay muy poca probabilidad de que el valor verdadero sea 0. En cambio, si nuestro error estándar es grande y nuestro estimado está muy cerca de cero, entonces podrías ser que el valor verdadero sea cero y que no haya relación entre las variables."
   ]
  },
  {
   "cell_type": "markdown",
   "id": "96161b14-6a16-41ea-aec8-0394f729447d",
   "metadata": {},
   "source": [
    "Se calcula un *estadístico t* dado por\n",
    "$$ t = \\frac{\\hat{\\beta_j} - \\mu}{\\text{SE}(\\hat{\\beta_j})} $$"
   ]
  },
  {
   "cell_type": "markdown",
   "id": "4f04296d-854b-4fcb-9c79-6b23b516f2f3",
   "metadata": {},
   "source": [
    "donde $\\mu$ es el valor contra el que queremos probar.\n",
    "\n",
    "Calcula el estadístico t para tus coeficientes estimados, usando como referencia la prueba de hipótesis."
   ]
  },
  {
   "cell_type": "code",
   "execution_count": 10,
   "id": "68f15e0c-6c64-4ff5-a03c-8d72b639db7f",
   "metadata": {},
   "outputs": [
    {
     "data": {
      "text/plain": [
       "17.667625439937986"
      ]
     },
     "execution_count": 10,
     "metadata": {},
     "output_type": "execute_result"
    }
   ],
   "source": [
    "tb1 = (0.04753664/a)\n",
    "tb1"
   ]
  },
  {
   "cell_type": "code",
   "execution_count": 11,
   "id": "3b101c1c-0570-4b3b-bb87-eb7b53e6ec51",
   "metadata": {},
   "outputs": [
    {
     "data": {
      "text/plain": [
       "15.360275176022796"
      ]
     },
     "execution_count": 11,
     "metadata": {},
     "output_type": "execute_result"
    }
   ],
   "source": [
    "tb0 = (7.03259355/SE_b0)\n",
    "tb0"
   ]
  },
  {
   "cell_type": "code",
   "execution_count": null,
   "id": "2b36d935-4394-46ab-b38a-8c888f51256c",
   "metadata": {},
   "outputs": [],
   "source": []
  },
  {
   "cell_type": "markdown",
   "id": "7737b123-f4c5-403c-92f2-4800c79107d9",
   "metadata": {},
   "source": [
    "La distribución t tiene forma de campana y se parece bastante a la distribución normal cuando $n > 30$. Ya sólo es cuestión de calcular la probabilidad de observar cualquier número tal que su valor absoluto sea igual o mayor que el valor absoluto del estadístico t calculado. En otras palabras:\n",
    "$$ P(|x| \\geq |t|) $$"
   ]
  },
  {
   "cell_type": "markdown",
   "id": "6bb2ccf1-b4b1-4c0c-a15b-d4fdd2f4552a",
   "metadata": {},
   "source": [
    "A esta probabilidad la llamamos *p-value*. Un *p-value* pequeño indica que es poco probable que exista por puro azar una relación significativa entre predictor y respuesta, en caso de que no haya una asociación real entre predictor y respuesta. En otras palabras, el *p-value* te dice la probabilidad de que parezca que hay relación cuando no la hay.\n",
    "\n",
    "Si el *p-value* es pequeño, inferimos que sí hay una asociación entre el predictor y la respuesta, y **rechazamos la hipótesis nula**.\n",
    "  "
   ]
  },
  {
   "cell_type": "markdown",
   "id": "c7f17065-a71d-4322-8782-3e805df65d29",
   "metadata": {},
   "source": [
    "¿Qué tan pequeño? Depende de la aplicación. Un valor muy común es del $5\\%$.\n",
    "\n",
    "Utiliza el siguiente código para calcular el *p-value* para tus coeficientes\n",
    "\n",
    "`from scipy import stats`\n",
    "\n",
    "`p_bj = 2*(1 - stats.t.cdf(np.abs(t_bj), n-p))`"
   ]
  },
  {
   "cell_type": "code",
   "execution_count": 12,
   "id": "7a542d04-f9cb-4ea2-9af1-ca79d1539860",
   "metadata": {},
   "outputs": [],
   "source": [
    "from scipy import stats\n",
    "import numpy as np\n",
    "p_b1 = 2*(1 - stats.t.cdf(np.abs(tb1), n-2))\n"
   ]
  },
  {
   "cell_type": "code",
   "execution_count": 13,
   "id": "18100af3-810f-4bce-8e9c-85e3aeda8b53",
   "metadata": {},
   "outputs": [
    {
     "data": {
      "text/plain": [
       "0.0"
      ]
     },
     "execution_count": 13,
     "metadata": {},
     "output_type": "execute_result"
    }
   ],
   "source": [
    "p_b1"
   ]
  },
  {
   "cell_type": "markdown",
   "id": "2be9ad17-db40-405e-b88a-d0af8a05aacf",
   "metadata": {},
   "source": [
    "¿Se rechaza la hipótesis nula? ¿Qué significa?"
   ]
  },
  {
   "cell_type": "markdown",
   "id": "261f861e-f191-47f8-9510-7444ab416756",
   "metadata": {},
   "source": []
  },
  {
   "cell_type": "markdown",
   "id": "2a1eaedd-7f9b-4627-89bf-bac8fe6b1c4f",
   "metadata": {},
   "source": []
  },
  {
   "cell_type": "markdown",
   "id": "c0f7f417-cfb7-4d4b-a0d1-6612904051a8",
   "metadata": {},
   "source": []
  },
  {
   "cell_type": "markdown",
   "id": "3a994d1a-6187-491c-a518-7971cebe3c0a",
   "metadata": {},
   "source": [
    "Realiza otras dos regresiones. Ya tienes hecha la regresión de ventas dado el gasto en publicidad de TV. Realiza la regresión para gastos en radio y gastos en periódico. Organiza las respuestas para que debajo de esta celda se tenga:\n",
    "- Título de regresión\n",
    "- Coeficientes estimados\n",
    "- Errores estándar de los coeficientes\n",
    "- Intervalos de confianza\n",
    "- Estadísticos t\n",
    "- p-values\n",
    "- Observaciones"
   ]
  },
  {
   "cell_type": "markdown",
   "id": "7623b4ff",
   "metadata": {},
   "source": [
    "## Periodico"
   ]
  },
  {
   "cell_type": "code",
   "execution_count": 14,
   "id": "166901b6-333e-49f2-bd64-52f13d866e1e",
   "metadata": {},
   "outputs": [
    {
     "data": {
      "text/html": [
       "<style>#sk-container-id-2 {color: black;}#sk-container-id-2 pre{padding: 0;}#sk-container-id-2 div.sk-toggleable {background-color: white;}#sk-container-id-2 label.sk-toggleable__label {cursor: pointer;display: block;width: 100%;margin-bottom: 0;padding: 0.3em;box-sizing: border-box;text-align: center;}#sk-container-id-2 label.sk-toggleable__label-arrow:before {content: \"▸\";float: left;margin-right: 0.25em;color: #696969;}#sk-container-id-2 label.sk-toggleable__label-arrow:hover:before {color: black;}#sk-container-id-2 div.sk-estimator:hover label.sk-toggleable__label-arrow:before {color: black;}#sk-container-id-2 div.sk-toggleable__content {max-height: 0;max-width: 0;overflow: hidden;text-align: left;background-color: #f0f8ff;}#sk-container-id-2 div.sk-toggleable__content pre {margin: 0.2em;color: black;border-radius: 0.25em;background-color: #f0f8ff;}#sk-container-id-2 input.sk-toggleable__control:checked~div.sk-toggleable__content {max-height: 200px;max-width: 100%;overflow: auto;}#sk-container-id-2 input.sk-toggleable__control:checked~label.sk-toggleable__label-arrow:before {content: \"▾\";}#sk-container-id-2 div.sk-estimator input.sk-toggleable__control:checked~label.sk-toggleable__label {background-color: #d4ebff;}#sk-container-id-2 div.sk-label input.sk-toggleable__control:checked~label.sk-toggleable__label {background-color: #d4ebff;}#sk-container-id-2 input.sk-hidden--visually {border: 0;clip: rect(1px 1px 1px 1px);clip: rect(1px, 1px, 1px, 1px);height: 1px;margin: -1px;overflow: hidden;padding: 0;position: absolute;width: 1px;}#sk-container-id-2 div.sk-estimator {font-family: monospace;background-color: #f0f8ff;border: 1px dotted black;border-radius: 0.25em;box-sizing: border-box;margin-bottom: 0.5em;}#sk-container-id-2 div.sk-estimator:hover {background-color: #d4ebff;}#sk-container-id-2 div.sk-parallel-item::after {content: \"\";width: 100%;border-bottom: 1px solid gray;flex-grow: 1;}#sk-container-id-2 div.sk-label:hover label.sk-toggleable__label {background-color: #d4ebff;}#sk-container-id-2 div.sk-serial::before {content: \"\";position: absolute;border-left: 1px solid gray;box-sizing: border-box;top: 0;bottom: 0;left: 50%;z-index: 0;}#sk-container-id-2 div.sk-serial {display: flex;flex-direction: column;align-items: center;background-color: white;padding-right: 0.2em;padding-left: 0.2em;position: relative;}#sk-container-id-2 div.sk-item {position: relative;z-index: 1;}#sk-container-id-2 div.sk-parallel {display: flex;align-items: stretch;justify-content: center;background-color: white;position: relative;}#sk-container-id-2 div.sk-item::before, #sk-container-id-2 div.sk-parallel-item::before {content: \"\";position: absolute;border-left: 1px solid gray;box-sizing: border-box;top: 0;bottom: 0;left: 50%;z-index: -1;}#sk-container-id-2 div.sk-parallel-item {display: flex;flex-direction: column;z-index: 1;position: relative;background-color: white;}#sk-container-id-2 div.sk-parallel-item:first-child::after {align-self: flex-end;width: 50%;}#sk-container-id-2 div.sk-parallel-item:last-child::after {align-self: flex-start;width: 50%;}#sk-container-id-2 div.sk-parallel-item:only-child::after {width: 0;}#sk-container-id-2 div.sk-dashed-wrapped {border: 1px dashed gray;margin: 0 0.4em 0.5em 0.4em;box-sizing: border-box;padding-bottom: 0.4em;background-color: white;}#sk-container-id-2 div.sk-label label {font-family: monospace;font-weight: bold;display: inline-block;line-height: 1.2em;}#sk-container-id-2 div.sk-label-container {text-align: center;}#sk-container-id-2 div.sk-container {/* jupyter's `normalize.less` sets `[hidden] { display: none; }` but bootstrap.min.css set `[hidden] { display: none !important; }` so we also need the `!important` here to be able to override the default hidden behavior on the sphinx rendered scikit-learn.org. See: https://github.com/scikit-learn/scikit-learn/issues/21755 */display: inline-block !important;position: relative;}#sk-container-id-2 div.sk-text-repr-fallback {display: none;}</style><div id=\"sk-container-id-2\" class=\"sk-top-container\"><div class=\"sk-text-repr-fallback\"><pre>LinearRegression()</pre><b>In a Jupyter environment, please rerun this cell to show the HTML representation or trust the notebook. <br />On GitHub, the HTML representation is unable to render, please try loading this page with nbviewer.org.</b></div><div class=\"sk-container\" hidden><div class=\"sk-item\"><div class=\"sk-estimator sk-toggleable\"><input class=\"sk-toggleable__control sk-hidden--visually\" id=\"sk-estimator-id-2\" type=\"checkbox\" checked><label for=\"sk-estimator-id-2\" class=\"sk-toggleable__label sk-toggleable__label-arrow\">LinearRegression</label><div class=\"sk-toggleable__content\"><pre>LinearRegression()</pre></div></div></div></div></div>"
      ],
      "text/plain": [
       "LinearRegression()"
      ]
     },
     "execution_count": 14,
     "metadata": {},
     "output_type": "execute_result"
    }
   ],
   "source": [
    "from sklearn.linear_model import LinearRegression\n",
    "import numpy as np\n",
    "X = data['newspaper'].values.reshape([-1, 1])\n",
    "y = data['sales'].values.reshape([-1, 1])\n",
    "lr = LinearRegression()\n",
    "lr.fit(X,y)"
   ]
  },
  {
   "cell_type": "code",
   "execution_count": 15,
   "id": "cbfaed5f-f044-43e4-90b7-29144d8b8f0f",
   "metadata": {},
   "outputs": [
    {
     "data": {
      "text/plain": [
       "array([12.35140707])"
      ]
     },
     "execution_count": 15,
     "metadata": {},
     "output_type": "execute_result"
    }
   ],
   "source": [
    "lr.intercept_"
   ]
  },
  {
   "cell_type": "code",
   "execution_count": 16,
   "id": "5d65ed89-7878-416a-a412-e83aa4a3a390",
   "metadata": {},
   "outputs": [
    {
     "data": {
      "text/plain": [
       "array([[0.0546931]])"
      ]
     },
     "execution_count": 16,
     "metadata": {},
     "output_type": "execute_result"
    }
   ],
   "source": [
    "lr.coef_"
   ]
  },
  {
   "cell_type": "code",
   "execution_count": 17,
   "id": "a312e933",
   "metadata": {},
   "outputs": [
    {
     "data": {
      "text/plain": [
       "0.6214201876094345"
      ]
     },
     "execution_count": 17,
     "metadata": {},
     "output_type": "execute_result"
    }
   ],
   "source": [
    "n = len(X)\n",
    "x_mean = np.mean(X)\n",
    "y_pred = lr.predict(X)\n",
    "residuals = y - y_pred\n",
    "sigma2 = np.sum(residuals**2) / (n - 2) \n",
    "Sxx = np.sum((X - x_mean)**2)\n",
    "SE0 =  sigma2 * (1/n + (x_mean**2) / Sxx)\n",
    "SE_b0 = np.sqrt(SE0)\n",
    "SE_b0"
   ]
  },
  {
   "cell_type": "code",
   "execution_count": 18,
   "id": "1d120a5c",
   "metadata": {},
   "outputs": [
    {
     "data": {
      "text/plain": [
       "0.016575721876358165"
      ]
     },
     "execution_count": 18,
     "metadata": {},
     "output_type": "execute_result"
    }
   ],
   "source": [
    "n = len(X)\n",
    "x_mean = np.mean(X)\n",
    "y_pred = lr.predict(X)\n",
    "residuals = y - y_pred\n",
    "sigma2 = np.sum(residuals**2) / (n - 2) \n",
    "Sxx = np.sum((X - x_mean)**2)\n",
    "SE0 =  sigma2 * (1/n + (x_mean**2) / Sxx)\n",
    "SE_b0 = np.sqrt(SE0)\n",
    "b1 = (sigma2/ Sxx)\n",
    "a = np.sqrt(b1)\n",
    "a"
   ]
  },
  {
   "cell_type": "code",
   "execution_count": 19,
   "id": "fd716d8a",
   "metadata": {},
   "outputs": [
    {
     "name": "stdout",
     "output_type": "stream",
     "text": [
      "11.108566694781132 13.594247445218869\n"
     ]
    }
   ],
   "source": [
    "za = 12.35140707 - 2*SE_b0\n",
    "ze = 12.35140707 + 2*SE_b0\n",
    "print ( za, ze)"
   ]
  },
  {
   "cell_type": "code",
   "execution_count": 20,
   "id": "12c37d16",
   "metadata": {},
   "outputs": [
    {
     "name": "stdout",
     "output_type": "stream",
     "text": [
      "0.021541656247283672 0.08784454375271633\n"
     ]
    }
   ],
   "source": [
    "za = 0.0546931 - 2*a\n",
    "ze = 0.0546931 + 2*a\n",
    "print ( za, ze)"
   ]
  },
  {
   "cell_type": "code",
   "execution_count": 21,
   "id": "0a6caa98",
   "metadata": {},
   "outputs": [
    {
     "data": {
      "text/plain": [
       "3.299590835799941"
      ]
     },
     "execution_count": 21,
     "metadata": {},
     "output_type": "execute_result"
    }
   ],
   "source": [
    "tb1 = (0.0546931/a)\n",
    "tb1"
   ]
  },
  {
   "cell_type": "code",
   "execution_count": 22,
   "id": "17b7e1c9",
   "metadata": {},
   "outputs": [
    {
     "data": {
      "text/plain": [
       "19.876095621410546"
      ]
     },
     "execution_count": 22,
     "metadata": {},
     "output_type": "execute_result"
    }
   ],
   "source": [
    "tb0 = (12.35140707/SE_b0)\n",
    "tb0"
   ]
  },
  {
   "cell_type": "code",
   "execution_count": 23,
   "id": "fcdae980",
   "metadata": {},
   "outputs": [
    {
     "data": {
      "text/plain": [
       "0.0011481955116945386"
      ]
     },
     "execution_count": 23,
     "metadata": {},
     "output_type": "execute_result"
    }
   ],
   "source": [
    "from scipy import stats\n",
    "import numpy as np\n",
    "p_b1 = 2*(1 - stats.t.cdf(np.abs(tb1), n-2))\n",
    "p_b1"
   ]
  },
  {
   "cell_type": "markdown",
   "id": "ed60f9f6",
   "metadata": {},
   "source": [
    "## Radio"
   ]
  },
  {
   "cell_type": "code",
   "execution_count": 54,
   "id": "6b52834a",
   "metadata": {},
   "outputs": [
    {
     "data": {
      "text/html": [
       "<style>#sk-container-id-6 {color: black;}#sk-container-id-6 pre{padding: 0;}#sk-container-id-6 div.sk-toggleable {background-color: white;}#sk-container-id-6 label.sk-toggleable__label {cursor: pointer;display: block;width: 100%;margin-bottom: 0;padding: 0.3em;box-sizing: border-box;text-align: center;}#sk-container-id-6 label.sk-toggleable__label-arrow:before {content: \"▸\";float: left;margin-right: 0.25em;color: #696969;}#sk-container-id-6 label.sk-toggleable__label-arrow:hover:before {color: black;}#sk-container-id-6 div.sk-estimator:hover label.sk-toggleable__label-arrow:before {color: black;}#sk-container-id-6 div.sk-toggleable__content {max-height: 0;max-width: 0;overflow: hidden;text-align: left;background-color: #f0f8ff;}#sk-container-id-6 div.sk-toggleable__content pre {margin: 0.2em;color: black;border-radius: 0.25em;background-color: #f0f8ff;}#sk-container-id-6 input.sk-toggleable__control:checked~div.sk-toggleable__content {max-height: 200px;max-width: 100%;overflow: auto;}#sk-container-id-6 input.sk-toggleable__control:checked~label.sk-toggleable__label-arrow:before {content: \"▾\";}#sk-container-id-6 div.sk-estimator input.sk-toggleable__control:checked~label.sk-toggleable__label {background-color: #d4ebff;}#sk-container-id-6 div.sk-label input.sk-toggleable__control:checked~label.sk-toggleable__label {background-color: #d4ebff;}#sk-container-id-6 input.sk-hidden--visually {border: 0;clip: rect(1px 1px 1px 1px);clip: rect(1px, 1px, 1px, 1px);height: 1px;margin: -1px;overflow: hidden;padding: 0;position: absolute;width: 1px;}#sk-container-id-6 div.sk-estimator {font-family: monospace;background-color: #f0f8ff;border: 1px dotted black;border-radius: 0.25em;box-sizing: border-box;margin-bottom: 0.5em;}#sk-container-id-6 div.sk-estimator:hover {background-color: #d4ebff;}#sk-container-id-6 div.sk-parallel-item::after {content: \"\";width: 100%;border-bottom: 1px solid gray;flex-grow: 1;}#sk-container-id-6 div.sk-label:hover label.sk-toggleable__label {background-color: #d4ebff;}#sk-container-id-6 div.sk-serial::before {content: \"\";position: absolute;border-left: 1px solid gray;box-sizing: border-box;top: 0;bottom: 0;left: 50%;z-index: 0;}#sk-container-id-6 div.sk-serial {display: flex;flex-direction: column;align-items: center;background-color: white;padding-right: 0.2em;padding-left: 0.2em;position: relative;}#sk-container-id-6 div.sk-item {position: relative;z-index: 1;}#sk-container-id-6 div.sk-parallel {display: flex;align-items: stretch;justify-content: center;background-color: white;position: relative;}#sk-container-id-6 div.sk-item::before, #sk-container-id-6 div.sk-parallel-item::before {content: \"\";position: absolute;border-left: 1px solid gray;box-sizing: border-box;top: 0;bottom: 0;left: 50%;z-index: -1;}#sk-container-id-6 div.sk-parallel-item {display: flex;flex-direction: column;z-index: 1;position: relative;background-color: white;}#sk-container-id-6 div.sk-parallel-item:first-child::after {align-self: flex-end;width: 50%;}#sk-container-id-6 div.sk-parallel-item:last-child::after {align-self: flex-start;width: 50%;}#sk-container-id-6 div.sk-parallel-item:only-child::after {width: 0;}#sk-container-id-6 div.sk-dashed-wrapped {border: 1px dashed gray;margin: 0 0.4em 0.5em 0.4em;box-sizing: border-box;padding-bottom: 0.4em;background-color: white;}#sk-container-id-6 div.sk-label label {font-family: monospace;font-weight: bold;display: inline-block;line-height: 1.2em;}#sk-container-id-6 div.sk-label-container {text-align: center;}#sk-container-id-6 div.sk-container {/* jupyter's `normalize.less` sets `[hidden] { display: none; }` but bootstrap.min.css set `[hidden] { display: none !important; }` so we also need the `!important` here to be able to override the default hidden behavior on the sphinx rendered scikit-learn.org. See: https://github.com/scikit-learn/scikit-learn/issues/21755 */display: inline-block !important;position: relative;}#sk-container-id-6 div.sk-text-repr-fallback {display: none;}</style><div id=\"sk-container-id-6\" class=\"sk-top-container\"><div class=\"sk-text-repr-fallback\"><pre>LinearRegression()</pre><b>In a Jupyter environment, please rerun this cell to show the HTML representation or trust the notebook. <br />On GitHub, the HTML representation is unable to render, please try loading this page with nbviewer.org.</b></div><div class=\"sk-container\" hidden><div class=\"sk-item\"><div class=\"sk-estimator sk-toggleable\"><input class=\"sk-toggleable__control sk-hidden--visually\" id=\"sk-estimator-id-6\" type=\"checkbox\" checked><label for=\"sk-estimator-id-6\" class=\"sk-toggleable__label sk-toggleable__label-arrow\">LinearRegression</label><div class=\"sk-toggleable__content\"><pre>LinearRegression()</pre></div></div></div></div></div>"
      ],
      "text/plain": [
       "LinearRegression()"
      ]
     },
     "execution_count": 54,
     "metadata": {},
     "output_type": "execute_result"
    }
   ],
   "source": [
    "from sklearn.linear_model import LinearRegression\n",
    "import numpy as np\n",
    "X = data['radio'].values.reshape([-1, 1])\n",
    "y = data['sales'].values.reshape([-1, 1])\n",
    "lr = LinearRegression()\n",
    "lr.fit(X,y)"
   ]
  },
  {
   "cell_type": "code",
   "execution_count": 55,
   "id": "50b6781d",
   "metadata": {},
   "outputs": [
    {
     "data": {
      "text/plain": [
       "array([9.3116381])"
      ]
     },
     "execution_count": 55,
     "metadata": {},
     "output_type": "execute_result"
    }
   ],
   "source": [
    "lr.intercept_"
   ]
  },
  {
   "cell_type": "code",
   "execution_count": 56,
   "id": "1c5ee2e5",
   "metadata": {},
   "outputs": [
    {
     "data": {
      "text/plain": [
       "array([[0.20249578]])"
      ]
     },
     "execution_count": 56,
     "metadata": {},
     "output_type": "execute_result"
    }
   ],
   "source": [
    "lr.coef_"
   ]
  },
  {
   "cell_type": "code",
   "execution_count": 57,
   "id": "8390eee4",
   "metadata": {},
   "outputs": [
    {
     "data": {
      "text/plain": [
       "0.5629004962718711"
      ]
     },
     "execution_count": 57,
     "metadata": {},
     "output_type": "execute_result"
    }
   ],
   "source": [
    "n = len(X)\n",
    "x_mean = np.mean(X)\n",
    "y_pred = lr.predict(X)\n",
    "residuals = y - y_pred\n",
    "sigma2 = np.sum(residuals**2) / (n - 2) \n",
    "Sxx = np.sum((X - x_mean)**2)\n",
    "SE0 =  sigma2 * (1/n + (x_mean**2) / Sxx)\n",
    "SE_b0 = np.sqrt(SE0)\n",
    "SE_b0"
   ]
  },
  {
   "cell_type": "code",
   "execution_count": 58,
   "id": "24a04c9e",
   "metadata": {},
   "outputs": [
    {
     "data": {
      "text/plain": [
       "0.020411306360090635"
      ]
     },
     "execution_count": 58,
     "metadata": {},
     "output_type": "execute_result"
    }
   ],
   "source": [
    "n = len(X)\n",
    "x_mean = np.mean(X)\n",
    "y_pred = lr.predict(X)\n",
    "residuals = y - y_pred\n",
    "sigma2 = np.sum(residuals**2) / (n - 2) \n",
    "Sxx = np.sum((X - x_mean)**2)\n",
    "SE0 =  sigma2 * (1/n + (x_mean**2) / Sxx)\n",
    "SE_b0 = np.sqrt(SE0)\n",
    "b1 = (sigma2/ Sxx)\n",
    "a = np.sqrt(b1)\n",
    "a"
   ]
  },
  {
   "cell_type": "code",
   "execution_count": 59,
   "id": "0cdf0aab",
   "metadata": {},
   "outputs": [
    {
     "name": "stdout",
     "output_type": "stream",
     "text": [
      "8.185837107456258 10.437439092543741\n"
     ]
    }
   ],
   "source": [
    "za = 9.3116381 - 2*SE_b0\n",
    "ze = 9.3116381 + 2*SE_b0\n",
    "print ( za, ze)"
   ]
  },
  {
   "cell_type": "code",
   "execution_count": 60,
   "id": "05c8a3e3",
   "metadata": {},
   "outputs": [
    {
     "name": "stdout",
     "output_type": "stream",
     "text": [
      "0.16167316727981873 0.24331839272018124\n"
     ]
    }
   ],
   "source": [
    "za = 0.20249578 - 2*a\n",
    "ze = 0.20249578 + 2*a\n",
    "print ( za, ze)"
   ]
  },
  {
   "cell_type": "code",
   "execution_count": 61,
   "id": "7abb97b8",
   "metadata": {},
   "outputs": [
    {
     "data": {
      "text/plain": [
       "9.920765306621012"
      ]
     },
     "execution_count": 61,
     "metadata": {},
     "output_type": "execute_result"
    }
   ],
   "source": [
    "tb1 = (0.20249578/a)\n",
    "tb1"
   ]
  },
  {
   "cell_type": "code",
   "execution_count": 62,
   "id": "94951f34",
   "metadata": {},
   "outputs": [
    {
     "data": {
      "text/plain": [
       "16.54224531985959"
      ]
     },
     "execution_count": 62,
     "metadata": {},
     "output_type": "execute_result"
    }
   ],
   "source": [
    "tb0 = (9.3116381/SE_b0)\n",
    "tb0"
   ]
  },
  {
   "cell_type": "code",
   "execution_count": 63,
   "id": "5bafa658",
   "metadata": {},
   "outputs": [
    {
     "data": {
      "text/plain": [
       "0.0"
      ]
     },
     "execution_count": 63,
     "metadata": {},
     "output_type": "execute_result"
    }
   ],
   "source": [
    "from scipy import stats\n",
    "import numpy as np\n",
    "p_b1 = 2*(1 - stats.t.cdf(np.abs(tb1), n-2))\n",
    "p_b1"
   ]
  },
  {
   "cell_type": "markdown",
   "id": "556988ae-3656-428d-817b-76f9e1534f46",
   "metadata": {},
   "source": [
    "## Regresión lineal múltiple"
   ]
  },
  {
   "cell_type": "markdown",
   "id": "943698d8-7f84-4245-8be3-e4c8f34be5da",
   "metadata": {},
   "source": [
    "En lugar de hacer una regresión para cada factor independiente, quizás se puede extender el modelo para que tenga varios factores dentro:\n",
    "\n",
    "$$ Y = \\beta_0 + \\beta_1 X_1 + \\beta_2 X_2 + ... + \\beta_p X_p + \\epsilon $$\n",
    "\n",
    "Para nuestro ejemplo de publicidad:\n",
    "\n",
    "$$ \\text{sales} = \\beta_0 + \\beta_1 (\\text{TV}) + \\beta_2 (\\text{radio}) + \\beta_3 (\\text{newspaper}) + \\epsilon $$"
   ]
  },
  {
   "cell_type": "markdown",
   "id": "df8cd89a-0c25-4e1d-9213-292807e17ccf",
   "metadata": {},
   "source": [
    "Utiliza la librería `statsmodels` para realizar la regresión. Por defecto la librería statsmodels no toma en cuenta el intercepto ($\\beta_0$), por lo que se tendrá que agregar una columna de unos de tamaño *n* a la matriz X.\n",
    "\n",
    "`import statsmodels.api as sm`\n",
    "\n",
    "`ols = sm.OLS(Y, X)`\n",
    "\n",
    "`results = ols.fit()`\n",
    "\n",
    "`results.summary()`"
   ]
  },
  {
   "cell_type": "code",
   "execution_count": 26,
   "id": "022522eb-2c18-435e-b51b-4ed5a5c54669",
   "metadata": {},
   "outputs": [
    {
     "data": {
      "text/html": [
       "<table class=\"simpletable\">\n",
       "<caption>OLS Regression Results</caption>\n",
       "<tr>\n",
       "  <th>Dep. Variable:</th>            <td>y</td>        <th>  R-squared:         </th> <td>   0.897</td>\n",
       "</tr>\n",
       "<tr>\n",
       "  <th>Model:</th>                   <td>OLS</td>       <th>  Adj. R-squared:    </th> <td>   0.896</td>\n",
       "</tr>\n",
       "<tr>\n",
       "  <th>Method:</th>             <td>Least Squares</td>  <th>  F-statistic:       </th> <td>   570.3</td>\n",
       "</tr>\n",
       "<tr>\n",
       "  <th>Date:</th>             <td>Thu, 28 Aug 2025</td> <th>  Prob (F-statistic):</th> <td>1.58e-96</td>\n",
       "</tr>\n",
       "<tr>\n",
       "  <th>Time:</th>                 <td>16:58:28</td>     <th>  Log-Likelihood:    </th> <td> -386.18</td>\n",
       "</tr>\n",
       "<tr>\n",
       "  <th>No. Observations:</th>      <td>   200</td>      <th>  AIC:               </th> <td>   780.4</td>\n",
       "</tr>\n",
       "<tr>\n",
       "  <th>Df Residuals:</th>          <td>   196</td>      <th>  BIC:               </th> <td>   793.6</td>\n",
       "</tr>\n",
       "<tr>\n",
       "  <th>Df Model:</th>              <td>     3</td>      <th>                     </th>     <td> </td>   \n",
       "</tr>\n",
       "<tr>\n",
       "  <th>Covariance Type:</th>      <td>nonrobust</td>    <th>                     </th>     <td> </td>   \n",
       "</tr>\n",
       "</table>\n",
       "<table class=\"simpletable\">\n",
       "<tr>\n",
       "    <td></td>       <th>coef</th>     <th>std err</th>      <th>t</th>      <th>P>|t|</th>  <th>[0.025</th>    <th>0.975]</th>  \n",
       "</tr>\n",
       "<tr>\n",
       "  <th>const</th> <td>    2.9389</td> <td>    0.312</td> <td>    9.422</td> <td> 0.000</td> <td>    2.324</td> <td>    3.554</td>\n",
       "</tr>\n",
       "<tr>\n",
       "  <th>x1</th>    <td>    0.0458</td> <td>    0.001</td> <td>   32.809</td> <td> 0.000</td> <td>    0.043</td> <td>    0.049</td>\n",
       "</tr>\n",
       "<tr>\n",
       "  <th>x2</th>    <td>    0.1885</td> <td>    0.009</td> <td>   21.893</td> <td> 0.000</td> <td>    0.172</td> <td>    0.206</td>\n",
       "</tr>\n",
       "<tr>\n",
       "  <th>x3</th>    <td>   -0.0010</td> <td>    0.006</td> <td>   -0.177</td> <td> 0.860</td> <td>   -0.013</td> <td>    0.011</td>\n",
       "</tr>\n",
       "</table>\n",
       "<table class=\"simpletable\">\n",
       "<tr>\n",
       "  <th>Omnibus:</th>       <td>60.414</td> <th>  Durbin-Watson:     </th> <td>   2.084</td>\n",
       "</tr>\n",
       "<tr>\n",
       "  <th>Prob(Omnibus):</th> <td> 0.000</td> <th>  Jarque-Bera (JB):  </th> <td> 151.241</td>\n",
       "</tr>\n",
       "<tr>\n",
       "  <th>Skew:</th>          <td>-1.327</td> <th>  Prob(JB):          </th> <td>1.44e-33</td>\n",
       "</tr>\n",
       "<tr>\n",
       "  <th>Kurtosis:</th>      <td> 6.332</td> <th>  Cond. No.          </th> <td>    454.</td>\n",
       "</tr>\n",
       "</table><br/><br/>Notes:<br/>[1] Standard Errors assume that the covariance matrix of the errors is correctly specified."
      ],
      "text/latex": [
       "\\begin{center}\n",
       "\\begin{tabular}{lclc}\n",
       "\\toprule\n",
       "\\textbf{Dep. Variable:}    &        y         & \\textbf{  R-squared:         } &     0.897   \\\\\n",
       "\\textbf{Model:}            &       OLS        & \\textbf{  Adj. R-squared:    } &     0.896   \\\\\n",
       "\\textbf{Method:}           &  Least Squares   & \\textbf{  F-statistic:       } &     570.3   \\\\\n",
       "\\textbf{Date:}             & Thu, 28 Aug 2025 & \\textbf{  Prob (F-statistic):} &  1.58e-96   \\\\\n",
       "\\textbf{Time:}             &     16:58:28     & \\textbf{  Log-Likelihood:    } &   -386.18   \\\\\n",
       "\\textbf{No. Observations:} &         200      & \\textbf{  AIC:               } &     780.4   \\\\\n",
       "\\textbf{Df Residuals:}     &         196      & \\textbf{  BIC:               } &     793.6   \\\\\n",
       "\\textbf{Df Model:}         &           3      & \\textbf{                     } &             \\\\\n",
       "\\textbf{Covariance Type:}  &    nonrobust     & \\textbf{                     } &             \\\\\n",
       "\\bottomrule\n",
       "\\end{tabular}\n",
       "\\begin{tabular}{lcccccc}\n",
       "               & \\textbf{coef} & \\textbf{std err} & \\textbf{t} & \\textbf{P$> |$t$|$} & \\textbf{[0.025} & \\textbf{0.975]}  \\\\\n",
       "\\midrule\n",
       "\\textbf{const} &       2.9389  &        0.312     &     9.422  &         0.000        &        2.324    &        3.554     \\\\\n",
       "\\textbf{x1}    &       0.0458  &        0.001     &    32.809  &         0.000        &        0.043    &        0.049     \\\\\n",
       "\\textbf{x2}    &       0.1885  &        0.009     &    21.893  &         0.000        &        0.172    &        0.206     \\\\\n",
       "\\textbf{x3}    &      -0.0010  &        0.006     &    -0.177  &         0.860        &       -0.013    &        0.011     \\\\\n",
       "\\bottomrule\n",
       "\\end{tabular}\n",
       "\\begin{tabular}{lclc}\n",
       "\\textbf{Omnibus:}       & 60.414 & \\textbf{  Durbin-Watson:     } &    2.084  \\\\\n",
       "\\textbf{Prob(Omnibus):} &  0.000 & \\textbf{  Jarque-Bera (JB):  } &  151.241  \\\\\n",
       "\\textbf{Skew:}          & -1.327 & \\textbf{  Prob(JB):          } & 1.44e-33  \\\\\n",
       "\\textbf{Kurtosis:}      &  6.332 & \\textbf{  Cond. No.          } &     454.  \\\\\n",
       "\\bottomrule\n",
       "\\end{tabular}\n",
       "%\\caption{OLS Regression Results}\n",
       "\\end{center}\n",
       "\n",
       "Notes: \\newline\n",
       " [1] Standard Errors assume that the covariance matrix of the errors is correctly specified."
      ],
      "text/plain": [
       "<class 'statsmodels.iolib.summary.Summary'>\n",
       "\"\"\"\n",
       "                            OLS Regression Results                            \n",
       "==============================================================================\n",
       "Dep. Variable:                      y   R-squared:                       0.897\n",
       "Model:                            OLS   Adj. R-squared:                  0.896\n",
       "Method:                 Least Squares   F-statistic:                     570.3\n",
       "Date:                Thu, 28 Aug 2025   Prob (F-statistic):           1.58e-96\n",
       "Time:                        16:58:28   Log-Likelihood:                -386.18\n",
       "No. Observations:                 200   AIC:                             780.4\n",
       "Df Residuals:                     196   BIC:                             793.6\n",
       "Df Model:                           3                                         \n",
       "Covariance Type:            nonrobust                                         \n",
       "==============================================================================\n",
       "                 coef    std err          t      P>|t|      [0.025      0.975]\n",
       "------------------------------------------------------------------------------\n",
       "const          2.9389      0.312      9.422      0.000       2.324       3.554\n",
       "x1             0.0458      0.001     32.809      0.000       0.043       0.049\n",
       "x2             0.1885      0.009     21.893      0.000       0.172       0.206\n",
       "x3            -0.0010      0.006     -0.177      0.860      -0.013       0.011\n",
       "==============================================================================\n",
       "Omnibus:                       60.414   Durbin-Watson:                   2.084\n",
       "Prob(Omnibus):                  0.000   Jarque-Bera (JB):              151.241\n",
       "Skew:                          -1.327   Prob(JB):                     1.44e-33\n",
       "Kurtosis:                       6.332   Cond. No.                         454.\n",
       "==============================================================================\n",
       "\n",
       "Notes:\n",
       "[1] Standard Errors assume that the covariance matrix of the errors is correctly specified.\n",
       "\"\"\""
      ]
     },
     "execution_count": 26,
     "metadata": {},
     "output_type": "execute_result"
    }
   ],
   "source": [
    "import statsmodels.api as sm\n",
    "X = np.hstack([\n",
    "    np.ones([n,1]), \n",
    "    data['TV'].values.reshape([-1, 1]), \n",
    "    data['radio'].values.reshape([-1, 1]),\n",
    "    data['newspaper'].values.reshape([-1, 1])\n",
    "])\n",
    "Y = data['sales'].values.reshape([-1, 1])\n",
    "\n",
    "ols = sm.OLS(Y, X)\n",
    "results = ols.fit()\n",
    "results.summary()"
   ]
  },
  {
   "cell_type": "code",
   "execution_count": null,
   "id": "a7a3bd74-0f56-4199-a327-278c3ec9919e",
   "metadata": {},
   "outputs": [],
   "source": []
  },
  {
   "cell_type": "code",
   "execution_count": 28,
   "id": "e9c9f7ea-0b4c-4f54-922e-6d1222da5da5",
   "metadata": {
    "scrolled": false
   },
   "outputs": [
    {
     "data": {
      "text/html": [
       "<table class=\"simpletable\">\n",
       "<caption>OLS Regression Results</caption>\n",
       "<tr>\n",
       "  <th>Dep. Variable:</th>            <td>y</td>        <th>  R-squared:         </th> <td>   0.968</td> \n",
       "</tr>\n",
       "<tr>\n",
       "  <th>Model:</th>                   <td>OLS</td>       <th>  Adj. R-squared:    </th> <td>   0.967</td> \n",
       "</tr>\n",
       "<tr>\n",
       "  <th>Method:</th>             <td>Least Squares</td>  <th>  F-statistic:       </th> <td>   1963.</td> \n",
       "</tr>\n",
       "<tr>\n",
       "  <th>Date:</th>             <td>Thu, 28 Aug 2025</td> <th>  Prob (F-statistic):</th> <td>6.68e-146</td>\n",
       "</tr>\n",
       "<tr>\n",
       "  <th>Time:</th>                 <td>17:36:35</td>     <th>  Log-Likelihood:    </th> <td> -270.14</td> \n",
       "</tr>\n",
       "<tr>\n",
       "  <th>No. Observations:</th>      <td>   200</td>      <th>  AIC:               </th> <td>   548.3</td> \n",
       "</tr>\n",
       "<tr>\n",
       "  <th>Df Residuals:</th>          <td>   196</td>      <th>  BIC:               </th> <td>   561.5</td> \n",
       "</tr>\n",
       "<tr>\n",
       "  <th>Df Model:</th>              <td>     3</td>      <th>                     </th>     <td> </td>    \n",
       "</tr>\n",
       "<tr>\n",
       "  <th>Covariance Type:</th>      <td>nonrobust</td>    <th>                     </th>     <td> </td>    \n",
       "</tr>\n",
       "</table>\n",
       "<table class=\"simpletable\">\n",
       "<tr>\n",
       "    <td></td>       <th>coef</th>     <th>std err</th>      <th>t</th>      <th>P>|t|</th>  <th>[0.025</th>    <th>0.975]</th>  \n",
       "</tr>\n",
       "<tr>\n",
       "  <th>const</th> <td>    6.7502</td> <td>    0.248</td> <td>   27.233</td> <td> 0.000</td> <td>    6.261</td> <td>    7.239</td>\n",
       "</tr>\n",
       "<tr>\n",
       "  <th>x1</th>    <td>    0.0191</td> <td>    0.002</td> <td>   12.699</td> <td> 0.000</td> <td>    0.016</td> <td>    0.022</td>\n",
       "</tr>\n",
       "<tr>\n",
       "  <th>x2</th>    <td>    0.0289</td> <td>    0.009</td> <td>    3.241</td> <td> 0.001</td> <td>    0.011</td> <td>    0.046</td>\n",
       "</tr>\n",
       "<tr>\n",
       "  <th>x3</th>    <td>    0.0011</td> <td> 5.24e-05</td> <td>   20.727</td> <td> 0.000</td> <td>    0.001</td> <td>    0.001</td>\n",
       "</tr>\n",
       "</table>\n",
       "<table class=\"simpletable\">\n",
       "<tr>\n",
       "  <th>Omnibus:</th>       <td>128.132</td> <th>  Durbin-Watson:     </th> <td>   2.224</td> \n",
       "</tr>\n",
       "<tr>\n",
       "  <th>Prob(Omnibus):</th> <td> 0.000</td>  <th>  Jarque-Bera (JB):  </th> <td>1183.719</td> \n",
       "</tr>\n",
       "<tr>\n",
       "  <th>Skew:</th>          <td>-2.323</td>  <th>  Prob(JB):          </th> <td>9.09e-258</td>\n",
       "</tr>\n",
       "<tr>\n",
       "  <th>Kurtosis:</th>      <td>13.975</td>  <th>  Cond. No.          </th> <td>1.80e+04</td> \n",
       "</tr>\n",
       "</table><br/><br/>Notes:<br/>[1] Standard Errors assume that the covariance matrix of the errors is correctly specified.<br/>[2] The condition number is large, 1.8e+04. This might indicate that there are<br/>strong multicollinearity or other numerical problems."
      ],
      "text/latex": [
       "\\begin{center}\n",
       "\\begin{tabular}{lclc}\n",
       "\\toprule\n",
       "\\textbf{Dep. Variable:}    &        y         & \\textbf{  R-squared:         } &     0.968   \\\\\n",
       "\\textbf{Model:}            &       OLS        & \\textbf{  Adj. R-squared:    } &     0.967   \\\\\n",
       "\\textbf{Method:}           &  Least Squares   & \\textbf{  F-statistic:       } &     1963.   \\\\\n",
       "\\textbf{Date:}             & Thu, 28 Aug 2025 & \\textbf{  Prob (F-statistic):} & 6.68e-146   \\\\\n",
       "\\textbf{Time:}             &     17:36:35     & \\textbf{  Log-Likelihood:    } &   -270.14   \\\\\n",
       "\\textbf{No. Observations:} &         200      & \\textbf{  AIC:               } &     548.3   \\\\\n",
       "\\textbf{Df Residuals:}     &         196      & \\textbf{  BIC:               } &     561.5   \\\\\n",
       "\\textbf{Df Model:}         &           3      & \\textbf{                     } &             \\\\\n",
       "\\textbf{Covariance Type:}  &    nonrobust     & \\textbf{                     } &             \\\\\n",
       "\\bottomrule\n",
       "\\end{tabular}\n",
       "\\begin{tabular}{lcccccc}\n",
       "               & \\textbf{coef} & \\textbf{std err} & \\textbf{t} & \\textbf{P$> |$t$|$} & \\textbf{[0.025} & \\textbf{0.975]}  \\\\\n",
       "\\midrule\n",
       "\\textbf{const} &       6.7502  &        0.248     &    27.233  &         0.000        &        6.261    &        7.239     \\\\\n",
       "\\textbf{x1}    &       0.0191  &        0.002     &    12.699  &         0.000        &        0.016    &        0.022     \\\\\n",
       "\\textbf{x2}    &       0.0289  &        0.009     &     3.241  &         0.001        &        0.011    &        0.046     \\\\\n",
       "\\textbf{x3}    &       0.0011  &     5.24e-05     &    20.727  &         0.000        &        0.001    &        0.001     \\\\\n",
       "\\bottomrule\n",
       "\\end{tabular}\n",
       "\\begin{tabular}{lclc}\n",
       "\\textbf{Omnibus:}       & 128.132 & \\textbf{  Durbin-Watson:     } &     2.224  \\\\\n",
       "\\textbf{Prob(Omnibus):} &   0.000 & \\textbf{  Jarque-Bera (JB):  } &  1183.719  \\\\\n",
       "\\textbf{Skew:}          &  -2.323 & \\textbf{  Prob(JB):          } & 9.09e-258  \\\\\n",
       "\\textbf{Kurtosis:}      &  13.975 & \\textbf{  Cond. No.          } &  1.80e+04  \\\\\n",
       "\\bottomrule\n",
       "\\end{tabular}\n",
       "%\\caption{OLS Regression Results}\n",
       "\\end{center}\n",
       "\n",
       "Notes: \\newline\n",
       " [1] Standard Errors assume that the covariance matrix of the errors is correctly specified. \\newline\n",
       " [2] The condition number is large, 1.8e+04. This might indicate that there are \\newline\n",
       " strong multicollinearity or other numerical problems."
      ],
      "text/plain": [
       "<class 'statsmodels.iolib.summary.Summary'>\n",
       "\"\"\"\n",
       "                            OLS Regression Results                            \n",
       "==============================================================================\n",
       "Dep. Variable:                      y   R-squared:                       0.968\n",
       "Model:                            OLS   Adj. R-squared:                  0.967\n",
       "Method:                 Least Squares   F-statistic:                     1963.\n",
       "Date:                Thu, 28 Aug 2025   Prob (F-statistic):          6.68e-146\n",
       "Time:                        17:36:35   Log-Likelihood:                -270.14\n",
       "No. Observations:                 200   AIC:                             548.3\n",
       "Df Residuals:                     196   BIC:                             561.5\n",
       "Df Model:                           3                                         \n",
       "Covariance Type:            nonrobust                                         \n",
       "==============================================================================\n",
       "                 coef    std err          t      P>|t|      [0.025      0.975]\n",
       "------------------------------------------------------------------------------\n",
       "const          6.7502      0.248     27.233      0.000       6.261       7.239\n",
       "x1             0.0191      0.002     12.699      0.000       0.016       0.022\n",
       "x2             0.0289      0.009      3.241      0.001       0.011       0.046\n",
       "x3             0.0011   5.24e-05     20.727      0.000       0.001       0.001\n",
       "==============================================================================\n",
       "Omnibus:                      128.132   Durbin-Watson:                   2.224\n",
       "Prob(Omnibus):                  0.000   Jarque-Bera (JB):             1183.719\n",
       "Skew:                          -2.323   Prob(JB):                    9.09e-258\n",
       "Kurtosis:                      13.975   Cond. No.                     1.80e+04\n",
       "==============================================================================\n",
       "\n",
       "Notes:\n",
       "[1] Standard Errors assume that the covariance matrix of the errors is correctly specified.\n",
       "[2] The condition number is large, 1.8e+04. This might indicate that there are\n",
       "strong multicollinearity or other numerical problems.\n",
       "\"\"\""
      ]
     },
     "execution_count": 28,
     "metadata": {},
     "output_type": "execute_result"
    }
   ],
   "source": [
    "import statsmodels.api as sm\n",
    "a = data['TV'].values.reshape([-1, 1])\n",
    "b = data['radio'].values.reshape([-1, 1])\n",
    "X = np.hstack([\n",
    "    np.ones([n,1]), \n",
    "    a, \n",
    "    b,\n",
    "    a*b)\n",
    "])\n",
    "Y = data['sales'].values.reshape([-1, 1])\n",
    "\n",
    "ols = sm.OLS(Y, X)\n",
    "results = ols.fit()\n",
    "results.summary()"
   ]
  },
  {
   "cell_type": "markdown",
   "id": "df0f403f-b246-4706-a4c6-5f17be224048",
   "metadata": {},
   "source": [
    "¿Qué diferencias puedes observar entre los *p-values* de una regresión múltiple y los encontrados en las regresiones simples? ¿Por qué crees que existen estas diferencias?"
   ]
  },
  {
   "cell_type": "code",
   "execution_count": 31,
   "id": "317a8b94-91a5-488f-8c9c-8f830c61a77e",
   "metadata": {},
   "outputs": [
    {
     "data": {
      "text/html": [
       "<table class=\"simpletable\">\n",
       "<caption>OLS Regression Results</caption>\n",
       "<tr>\n",
       "  <th>Dep. Variable:</th>            <td>y</td>        <th>  R-squared:         </th> <td>   0.969</td> \n",
       "</tr>\n",
       "<tr>\n",
       "  <th>Model:</th>                   <td>OLS</td>       <th>  Adj. R-squared:    </th> <td>   0.968</td> \n",
       "</tr>\n",
       "<tr>\n",
       "  <th>Method:</th>             <td>Least Squares</td>  <th>  F-statistic:       </th> <td>   993.3</td> \n",
       "</tr>\n",
       "<tr>\n",
       "  <th>Date:</th>             <td>Thu, 28 Aug 2025</td> <th>  Prob (F-statistic):</th> <td>3.68e-142</td>\n",
       "</tr>\n",
       "<tr>\n",
       "  <th>Time:</th>                 <td>17:43:54</td>     <th>  Log-Likelihood:    </th> <td> -267.49</td> \n",
       "</tr>\n",
       "<tr>\n",
       "  <th>No. Observations:</th>      <td>   200</td>      <th>  AIC:               </th> <td>   549.0</td> \n",
       "</tr>\n",
       "<tr>\n",
       "  <th>Df Residuals:</th>          <td>   193</td>      <th>  BIC:               </th> <td>   572.1</td> \n",
       "</tr>\n",
       "<tr>\n",
       "  <th>Df Model:</th>              <td>     6</td>      <th>                     </th>     <td> </td>    \n",
       "</tr>\n",
       "<tr>\n",
       "  <th>Covariance Type:</th>      <td>nonrobust</td>    <th>                     </th>     <td> </td>    \n",
       "</tr>\n",
       "</table>\n",
       "<table class=\"simpletable\">\n",
       "<tr>\n",
       "    <td></td>       <th>coef</th>     <th>std err</th>      <th>t</th>      <th>P>|t|</th>  <th>[0.025</th>    <th>0.975]</th>  \n",
       "</tr>\n",
       "<tr>\n",
       "  <th>const</th> <td>    6.4602</td> <td>    0.318</td> <td>   20.342</td> <td> 0.000</td> <td>    5.834</td> <td>    7.087</td>\n",
       "</tr>\n",
       "<tr>\n",
       "  <th>x1</th>    <td>    0.0203</td> <td>    0.002</td> <td>   12.633</td> <td> 0.000</td> <td>    0.017</td> <td>    0.024</td>\n",
       "</tr>\n",
       "<tr>\n",
       "  <th>x2</th>    <td>    0.0229</td> <td>    0.011</td> <td>    2.009</td> <td> 0.046</td> <td>    0.000</td> <td>    0.045</td>\n",
       "</tr>\n",
       "<tr>\n",
       "  <th>x3</th>    <td>    0.0170</td> <td>    0.010</td> <td>    1.691</td> <td> 0.092</td> <td>   -0.003</td> <td>    0.037</td>\n",
       "</tr>\n",
       "<tr>\n",
       "  <th>x4</th>    <td>    0.0011</td> <td> 5.72e-05</td> <td>   19.930</td> <td> 0.000</td> <td>    0.001</td> <td>    0.001</td>\n",
       "</tr>\n",
       "<tr>\n",
       "  <th>x5</th>    <td>-7.971e-05</td> <td> 3.58e-05</td> <td>   -2.227</td> <td> 0.027</td> <td>   -0.000</td> <td>-9.12e-06</td>\n",
       "</tr>\n",
       "<tr>\n",
       "  <th>x6</th>    <td>   -0.0001</td> <td>    0.000</td> <td>   -0.464</td> <td> 0.643</td> <td>   -0.001</td> <td>    0.000</td>\n",
       "</tr>\n",
       "</table>\n",
       "<table class=\"simpletable\">\n",
       "<tr>\n",
       "  <th>Omnibus:</th>       <td>111.385</td> <th>  Durbin-Watson:     </th> <td>   2.222</td> \n",
       "</tr>\n",
       "<tr>\n",
       "  <th>Prob(Omnibus):</th> <td> 0.000</td>  <th>  Jarque-Bera (JB):  </th> <td> 767.483</td> \n",
       "</tr>\n",
       "<tr>\n",
       "  <th>Skew:</th>          <td>-2.046</td>  <th>  Prob(JB):          </th> <td>2.20e-167</td>\n",
       "</tr>\n",
       "<tr>\n",
       "  <th>Kurtosis:</th>      <td>11.681</td>  <th>  Cond. No.          </th> <td>3.80e+04</td> \n",
       "</tr>\n",
       "</table><br/><br/>Notes:<br/>[1] Standard Errors assume that the covariance matrix of the errors is correctly specified.<br/>[2] The condition number is large, 3.8e+04. This might indicate that there are<br/>strong multicollinearity or other numerical problems."
      ],
      "text/latex": [
       "\\begin{center}\n",
       "\\begin{tabular}{lclc}\n",
       "\\toprule\n",
       "\\textbf{Dep. Variable:}    &        y         & \\textbf{  R-squared:         } &     0.969   \\\\\n",
       "\\textbf{Model:}            &       OLS        & \\textbf{  Adj. R-squared:    } &     0.968   \\\\\n",
       "\\textbf{Method:}           &  Least Squares   & \\textbf{  F-statistic:       } &     993.3   \\\\\n",
       "\\textbf{Date:}             & Thu, 28 Aug 2025 & \\textbf{  Prob (F-statistic):} & 3.68e-142   \\\\\n",
       "\\textbf{Time:}             &     17:43:54     & \\textbf{  Log-Likelihood:    } &   -267.49   \\\\\n",
       "\\textbf{No. Observations:} &         200      & \\textbf{  AIC:               } &     549.0   \\\\\n",
       "\\textbf{Df Residuals:}     &         193      & \\textbf{  BIC:               } &     572.1   \\\\\n",
       "\\textbf{Df Model:}         &           6      & \\textbf{                     } &             \\\\\n",
       "\\textbf{Covariance Type:}  &    nonrobust     & \\textbf{                     } &             \\\\\n",
       "\\bottomrule\n",
       "\\end{tabular}\n",
       "\\begin{tabular}{lcccccc}\n",
       "               & \\textbf{coef} & \\textbf{std err} & \\textbf{t} & \\textbf{P$> |$t$|$} & \\textbf{[0.025} & \\textbf{0.975]}  \\\\\n",
       "\\midrule\n",
       "\\textbf{const} &       6.4602  &        0.318     &    20.342  &         0.000        &        5.834    &        7.087     \\\\\n",
       "\\textbf{x1}    &       0.0203  &        0.002     &    12.633  &         0.000        &        0.017    &        0.024     \\\\\n",
       "\\textbf{x2}    &       0.0229  &        0.011     &     2.009  &         0.046        &        0.000    &        0.045     \\\\\n",
       "\\textbf{x3}    &       0.0170  &        0.010     &     1.691  &         0.092        &       -0.003    &        0.037     \\\\\n",
       "\\textbf{x4}    &       0.0011  &     5.72e-05     &    19.930  &         0.000        &        0.001    &        0.001     \\\\\n",
       "\\textbf{x5}    &   -7.971e-05  &     3.58e-05     &    -2.227  &         0.027        &       -0.000    &    -9.12e-06     \\\\\n",
       "\\textbf{x6}    &      -0.0001  &        0.000     &    -0.464  &         0.643        &       -0.001    &        0.000     \\\\\n",
       "\\bottomrule\n",
       "\\end{tabular}\n",
       "\\begin{tabular}{lclc}\n",
       "\\textbf{Omnibus:}       & 111.385 & \\textbf{  Durbin-Watson:     } &     2.222  \\\\\n",
       "\\textbf{Prob(Omnibus):} &   0.000 & \\textbf{  Jarque-Bera (JB):  } &   767.483  \\\\\n",
       "\\textbf{Skew:}          &  -2.046 & \\textbf{  Prob(JB):          } & 2.20e-167  \\\\\n",
       "\\textbf{Kurtosis:}      &  11.681 & \\textbf{  Cond. No.          } &  3.80e+04  \\\\\n",
       "\\bottomrule\n",
       "\\end{tabular}\n",
       "%\\caption{OLS Regression Results}\n",
       "\\end{center}\n",
       "\n",
       "Notes: \\newline\n",
       " [1] Standard Errors assume that the covariance matrix of the errors is correctly specified. \\newline\n",
       " [2] The condition number is large, 3.8e+04. This might indicate that there are \\newline\n",
       " strong multicollinearity or other numerical problems."
      ],
      "text/plain": [
       "<class 'statsmodels.iolib.summary.Summary'>\n",
       "\"\"\"\n",
       "                            OLS Regression Results                            \n",
       "==============================================================================\n",
       "Dep. Variable:                      y   R-squared:                       0.969\n",
       "Model:                            OLS   Adj. R-squared:                  0.968\n",
       "Method:                 Least Squares   F-statistic:                     993.3\n",
       "Date:                Thu, 28 Aug 2025   Prob (F-statistic):          3.68e-142\n",
       "Time:                        17:43:54   Log-Likelihood:                -267.49\n",
       "No. Observations:                 200   AIC:                             549.0\n",
       "Df Residuals:                     193   BIC:                             572.1\n",
       "Df Model:                           6                                         \n",
       "Covariance Type:            nonrobust                                         \n",
       "==============================================================================\n",
       "                 coef    std err          t      P>|t|      [0.025      0.975]\n",
       "------------------------------------------------------------------------------\n",
       "const          6.4602      0.318     20.342      0.000       5.834       7.087\n",
       "x1             0.0203      0.002     12.633      0.000       0.017       0.024\n",
       "x2             0.0229      0.011      2.009      0.046       0.000       0.045\n",
       "x3             0.0170      0.010      1.691      0.092      -0.003       0.037\n",
       "x4             0.0011   5.72e-05     19.930      0.000       0.001       0.001\n",
       "x5         -7.971e-05   3.58e-05     -2.227      0.027      -0.000   -9.12e-06\n",
       "x6            -0.0001      0.000     -0.464      0.643      -0.001       0.000\n",
       "==============================================================================\n",
       "Omnibus:                      111.385   Durbin-Watson:                   2.222\n",
       "Prob(Omnibus):                  0.000   Jarque-Bera (JB):              767.483\n",
       "Skew:                          -2.046   Prob(JB):                    2.20e-167\n",
       "Kurtosis:                      11.681   Cond. No.                     3.80e+04\n",
       "==============================================================================\n",
       "\n",
       "Notes:\n",
       "[1] Standard Errors assume that the covariance matrix of the errors is correctly specified.\n",
       "[2] The condition number is large, 3.8e+04. This might indicate that there are\n",
       "strong multicollinearity or other numerical problems.\n",
       "\"\"\""
      ]
     },
     "execution_count": 31,
     "metadata": {},
     "output_type": "execute_result"
    }
   ],
   "source": [
    "import statsmodels.api as sm\n",
    "a = data['TV'].values.reshape([-1, 1])\n",
    "b = data['radio'].values.reshape([-1, 1])\n",
    "c = data['newspaper'].values.reshape([-1, 1])\n",
    "X = np.hstack([\n",
    "    np.ones([n,1]), \n",
    "    a, \n",
    "    b,\n",
    "    c,\n",
    "    a*b,\n",
    "    a*c,\n",
    "    b*c\n",
    "])\n",
    "Y = data['sales'].values.reshape([-1, 1])\n",
    "\n",
    "ols = sm.OLS(Y, X)\n",
    "results = ols.fit()\n",
    "results.summary()"
   ]
  },
  {
   "cell_type": "markdown",
   "id": "1b14b3cc",
   "metadata": {},
   "source": [
    "Al hacer la regresión con todos los factores a la vez podemos ver que el periodico "
   ]
  },
  {
   "cell_type": "code",
   "execution_count": null,
   "id": "ca597716-79ca-45b4-9629-5c9bddc125e8",
   "metadata": {},
   "outputs": [],
   "source": []
  },
  {
   "cell_type": "markdown",
   "id": "3898858d-5dda-42ae-b458-b5e7fcd2df76",
   "metadata": {},
   "source": [
    "## Referencia\n",
    "\n",
    "James, G., Witten, D., Hastie, T., Tibshirani, R.,, Taylor, J. (2023). An Introduction to Statistical Learning with Applications in Python. Cham: Springer. ISBN: 978-3-031-38746-3"
   ]
  },
  {
   "cell_type": "markdown",
   "id": "8a72b870-2174-4ea9-adac-260d6aa97067",
   "metadata": {},
   "source": [
    "## Addendum"
   ]
  },
  {
   "cell_type": "markdown",
   "id": "8dacc515-40ee-4ac8-a6f6-9e1a22b97313",
   "metadata": {},
   "source": [
    "Para calcular los *p-values* de los parámetros sin `statsmodels`:\n",
    "1. Calcular RSS\n",
    "2. Calcular RSE\n",
    "3. `var_beta = np.linalg.inv(X.T @ X) * rse**2` (X con columna de intercepto)\n",
    "4. `std_beta = np.sqrt(var_beta.diagonal())` El orden de los valores corresponde al orden de los factores en las columnas de la matriz $X$.\n",
    "5. Calcular *estadístico t*\n",
    "6. Calcular *p-value*"
   ]
  }
 ],
 "metadata": {
  "kernelspec": {
   "display_name": "Python 3 (ipykernel)",
   "language": "python",
   "name": "python3"
  },
  "language_info": {
   "codemirror_mode": {
    "name": "ipython",
    "version": 3
   },
   "file_extension": ".py",
   "mimetype": "text/x-python",
   "name": "python",
   "nbconvert_exporter": "python",
   "pygments_lexer": "ipython3",
   "version": "3.11.5"
  }
 },
 "nbformat": 4,
 "nbformat_minor": 5
}
